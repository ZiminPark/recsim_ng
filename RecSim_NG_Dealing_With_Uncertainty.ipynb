{
  "nbformat": 4,
  "nbformat_minor": 0,
  "metadata": {
    "colab": {
      "name": "RecSim NG: Dealing With Uncertainty.ipynb",
      "provenance": [],
      "authorship_tag": "ABX9TyOoj8LFQk2JX8d0GbTcLtp6",
      "include_colab_link": true
    },
    "kernelspec": {
      "name": "python3",
      "display_name": "Python 3"
    },
    "language_info": {
      "name": "python"
    }
  },
  "cells": [
    {
      "cell_type": "markdown",
      "metadata": {
        "id": "view-in-github",
        "colab_type": "text"
      },
      "source": [
        "<a href=\"https://colab.research.google.com/github/ZiminPark/recsim_ng/blob/master/RecSim_NG_Dealing_With_Uncertainty.ipynb\" target=\"_parent\"><img src=\"https://colab.research.google.com/assets/colab-badge.svg\" alt=\"Open In Colab\"/></a>"
      ]
    },
    {
      "cell_type": "code",
      "metadata": {
        "colab": {
          "base_uri": "https://localhost:8080/"
        },
        "id": "23brdL-C8-CG",
        "outputId": "e41ca0fe-65b2-47cc-8765-7807d14f2bdf"
      },
      "source": [
        "!pip install edward2\n",
        "!pip3 install --upgrade -q --no-cache-dir recsim_ng"
      ],
      "execution_count": 1,
      "outputs": [
        {
          "output_type": "stream",
          "text": [
            "Collecting edward2\n",
            "\u001b[?25l  Downloading https://files.pythonhosted.org/packages/54/b2/fc68d9c91acd4b4bc86c2a7fe7737483320affd819378175391cd6f7f0ca/edward2-0.0.2-py2.py3-none-any.whl (163kB)\n",
            "\r\u001b[K     |██                              | 10kB 11.2MB/s eta 0:00:01\r\u001b[K     |████                            | 20kB 12.5MB/s eta 0:00:01\r\u001b[K     |██████                          | 30kB 10.8MB/s eta 0:00:01\r\u001b[K     |████████                        | 40kB 9.1MB/s eta 0:00:01\r\u001b[K     |██████████                      | 51kB 5.7MB/s eta 0:00:01\r\u001b[K     |████████████                    | 61kB 5.2MB/s eta 0:00:01\r\u001b[K     |██████████████                  | 71kB 5.8MB/s eta 0:00:01\r\u001b[K     |████████████████                | 81kB 6.2MB/s eta 0:00:01\r\u001b[K     |██████████████████              | 92kB 6.5MB/s eta 0:00:01\r\u001b[K     |████████████████████            | 102kB 5.3MB/s eta 0:00:01\r\u001b[K     |██████████████████████          | 112kB 5.3MB/s eta 0:00:01\r\u001b[K     |████████████████████████        | 122kB 5.3MB/s eta 0:00:01\r\u001b[K     |██████████████████████████▏     | 133kB 5.3MB/s eta 0:00:01\r\u001b[K     |████████████████████████████▏   | 143kB 5.3MB/s eta 0:00:01\r\u001b[K     |██████████████████████████████▏ | 153kB 5.3MB/s eta 0:00:01\r\u001b[K     |████████████████████████████████| 163kB 5.3MB/s \n",
            "\u001b[?25hInstalling collected packages: edward2\n",
            "Successfully installed edward2-0.0.2\n",
            "\u001b[K     |████████████████████████████████| 143kB 5.0MB/s \n",
            "\u001b[?25h"
          ],
          "name": "stdout"
        }
      ]
    },
    {
      "cell_type": "code",
      "metadata": {
        "id": "itMxIX1q8lge"
      },
      "source": [
        "from typing import Any, Callable, Mapping, Sequence, Text\n",
        "import functools\n",
        "import matplotlib as mpl\n",
        "from matplotlib import animation\n",
        "from matplotlib import pyplot as plt\n",
        "import numpy as np\n",
        "import tensorflow as tf\n",
        "import tensorflow_probability as tfp\n",
        "\n",
        "import edward2 as ed\n",
        "from recsim_ng.core import network as network_lib\n",
        "from recsim_ng.core import variable\n",
        "from recsim_ng.core import value\n",
        "from recsim_ng.lib import data\n",
        "from recsim_ng.lib.tensorflow import entity\n",
        "from recsim_ng.lib.tensorflow import log_probability\n",
        "from recsim_ng.lib.tensorflow import runtime\n",
        "from recsim_ng.core import value"
      ],
      "execution_count": 9,
      "outputs": []
    },
    {
      "cell_type": "code",
      "metadata": {
        "id": "UB1Nx94F9JWH"
      },
      "source": [
        "tfd = tfp.distributions\n",
        "tfb = tfp.bijectors\n",
        "\n",
        "mpl.style.use(\"classic\")\n",
        "\n",
        "Variable = variable.Variable\n",
        "Value = value.Value\n",
        "FieldSpec = value.FieldSpec\n",
        "\n",
        "ValueSpec = value.ValueSpec"
      ],
      "execution_count": 10,
      "outputs": []
    },
    {
      "cell_type": "markdown",
      "metadata": {
        "id": "ifV9RCKi8mpp"
      },
      "source": [
        "# Uncertainty in RecSim NG\n",
        "\n",
        "In [the first tutorial](RecSim_NG_Basics.ipynb) we introduced a RecSim NG model that captured a simple stochastic process expressed using the language of Dynamic Bayesian Networks (DBNs). Yet, throughout the tutorial we explicitly abstained from dealing with *stochasticity*!\n",
        "\n",
        "In this tutorial, we correct this deficiency and explicitly address the stochastics of the Markov process captured by a DBN.\n",
        "\n",
        "## Stochastic Simulations\n",
        "\n",
        "Simulating individual events (e.g., **clicks, ratings, churn**) extremely challenging task that faces many obstacles. \n",
        "\n",
        "By far, the most significant challenge is that of **observability**: by some combination of \n",
        "- mental state, \n",
        "- past experience, \n",
        "- personality traits, \n",
        "- and environmental factors---\n",
        "\n",
        "even if we could, modeling the interplay or interaction of multiple users with any degree of fidelity or realism is prohibitively complex. \n",
        "\n",
        "Luckily, the questions that we typically aim to answer with simulation rarely require realistically reproducing exact sequences of events. In most cases, we are interested in questions like: \n",
        "* \"Does policy A induce more user satisfaction than policy B?\"\n",
        "* \"Does technique X decrease the disparity in quality of service between niche and mainstream users?\"\n",
        "* \"Is this product going to be viable in 5 years?\"\n",
        "\n",
        "and so on. Such questions can be answered using **aggregate statistics**. \n",
        "For example, we do not necessarily need to know if a user query for a specific type of content will be answered correctly at a specific time of the day; rather, it may suffice to know that *p*% of a user's queries are answered in a satisfactory fashion. \n",
        "\n",
        "This relaxes the requirement of simulating \"precise\" trajectories of events to that of simulating **\"plausible\" trajectories** of events---trajectories that contain different types of events in the right contexts in similar proportions to those found in the real world.\n",
        "\n",
        "In recommendation systems simulation, stochasticity is typically implemented using \"stochastic\" behaviors. \n",
        "\n",
        "That is, given a set of stimuli or inputs (e.g., a slate of recommendations, and a user's context), a **behavioral model** (e.g., a user's response or choice function) generates an outcome (e.g., a click, a rating, a purchase) by sampling from a distribution of possible outcomes conditioned on these stimuli. \n",
        "\n",
        "We consider a simulation to be \n",
        "> **\"plausible\"** if it generates events whose relative frequencies are \"similar\" to those observed in real world data. \n",
        "\n",
        "Of course, there is a significant amount of freedom in how we measure similarity for this purpose---we discuss some options later on.  "
      ]
    },
    {
      "cell_type": "markdown",
      "metadata": {
        "id": "tPzOSAZu-enc"
      },
      "source": [
        "# Randomness in RecSim NG "
      ]
    },
    {
      "cell_type": "markdown",
      "metadata": {
        "id": "cJ2m55PK9uXz"
      },
      "source": [
        "a fairly wide set of cases where imperative definitions can be converted to declarative ones in reasonable time and space, allowing us to have the best of both worlds. \n",
        "\n",
        "To achieve this, RecSim NG uses the [Edward2](https://github.com/google/edward2) probabilistic programming environment. Edward2 is a layer on top of [TensorFlow Probability](https://github.com/tensorflow/probability) which employs program transformation to allow us to treat our imperative sampling code as if it were a symbolic declarative definition of the distribution. \n",
        "\n",
        "RecSim NG exposes a small (but easily extensible) set of Edward2 program transformations tailored to simulation-specific tasks (including those of special relevance for simulating agents involved in recommender systems).\n"
      ]
    },
    {
      "cell_type": "markdown",
      "metadata": {
        "id": "o6xUtMN--iur"
      },
      "source": [
        "## Hello Random World\n",
        "\n",
        "In principle, adding randomness to a RecSim NG simulation can be as easy as encapsulating every random draw in an Edward2 random variable. \n",
        "\n",
        "The following code implements a simple Gaussian random walk whose kernel is parameterized by the ```normal_scale``` parameter.\n"
      ]
    },
    {
      "cell_type": "code",
      "metadata": {
        "id": "K4aiJCDV-ro_"
      },
      "source": [
        "normal_scale = tf.Variable(1.0)\n",
        "\n",
        "\n",
        "def rw_next(previous_state: Value) -> Value:\n",
        "  return Value(\n",
        "      state=ed.Normal(loc=previous_state.get(\"state\"), scale=normal_scale))\n",
        "\n",
        "\n",
        "random_walk_var = Variable(name=\"rw_var\", spec=ValueSpec(state=FieldSpec()))\n",
        "random_walk_var.initial_value = variable.value(\n",
        "    lambda: Value(state=ed.Normal(loc=0.0, scale=1.0)))\n",
        "random_walk_var.value = variable.value(rw_next, (random_walk_var.previous,))\n",
        "\n",
        "tf_runtime = runtime.TFRuntime(network=network_lib.Network([random_walk_var]))"
      ],
      "execution_count": 4,
      "outputs": []
    },
    {
      "cell_type": "code",
      "metadata": {
        "colab": {
          "base_uri": "https://localhost:8080/",
          "height": 248
        },
        "id": "MHk33m4a-upC",
        "outputId": "dc30d370-884d-4479-9000-526a5d0feb71"
      },
      "source": [
        "horizon = 200\n",
        "trajectories = [tf_runtime.trajectory(horizon) for _ in range(5)]\n",
        "_, ax = plt.subplots(figsize=(8, 3))\n",
        "\n",
        "for trajectory in trajectories:\n",
        "  ax.plot(range(horizon), trajectory[\"rw_var\"].get(\"state\"))"
      ],
      "execution_count": 5,
      "outputs": [
        {
          "output_type": "display_data",
          "data": {
            "image/png": "[encoded data removed]",
            "text/plain": [
              "<Figure size 640x240 with 1 Axes>"
            ]
          },
          "metadata": {
            "tags": []
          }
        }
      ]
    },
    {
      "cell_type": "markdown",
      "metadata": {
        "id": "os3vIxXD-z_n"
      },
      "source": [
        "We see that different simulator runs result in different random draws, hence different trajectories.\n",
        "\n",
        "## Beyond Monte Carlo: Evaluating Log-probabilities\n",
        "The example above illustrates the implementation of a simple stochastic simulation (also known as a *Monte Carlo simulation*) in RecSim NG. As discussed earlier, RecSim offers considerable additional functionality beyond simple trajectory generation. One significant difference between RecSim NG and a pure Monte Carlo simulator is that it can evaluate the probabilities of trajectories according to the DBN induced by the simulation. This functionality is contained in the ```log_probability``` module. \n",
        "\n",
        "The ```log_probability``` module offers a number of APIs for evaluating log probabilities of either entire trajectories, or parts thereof (e.g., individual variables or even individual fields, which is often useful when constructing various estimators). \n",
        "\n",
        "At the highest level, the ```log_probability_from_value_trajectory``` function \n",
        "> takes a collection of RecSim NG simulation variables, a    ```NetworkValueTrajectory```, which provides possible values for these variables, a trajectory length (in case we want a partial evaluation), and \n",
        "\n",
        "> outputs the log probability of the values in the trajectory under the variables' initial state and transition distributions."
      ]
    },
    {
      "cell_type": "code",
      "metadata": {
        "colab": {
          "base_uri": "https://localhost:8080/"
        },
        "id": "QYzURSeH-4rY",
        "outputId": "a26c9696-2c57-4ab8-f7b1-b9161ec4863e"
      },
      "source": [
        "log_probs = [\n",
        "    log_probability.log_probability_from_value_trajectory(\n",
        "        [random_walk_var], traj, horizon - 1).numpy()\n",
        "    for traj in trajectories\n",
        "]\n",
        "print(log_probs)"
      ],
      "execution_count": 6,
      "outputs": [
        {
          "output_type": "stream",
          "text": [
            "WARNING:tensorflow:5 out of the last 5 calls to <function TFRuntime.__init__.<locals>.execute_fn at 0x7fbe750b0290> triggered tf.function retracing. Tracing is expensive and the excessive number of tracings could be due to (1) creating @tf.function repeatedly in a loop, (2) passing tensors with different shapes, (3) passing Python objects instead of tensors. For (1), please define your @tf.function outside of the loop. For (2), @tf.function has experimental_relax_shapes=True option that relaxes argument shapes that can avoid unnecessary retracing. For (3), please refer to https://www.tensorflow.org/guide/function#controlling_retracing and https://www.tensorflow.org/api_docs/python/tf/function for  more details.\n",
            "[-285.8883, -279.028, -287.4228, -298.987, -276.6525]\n"
          ],
          "name": "stdout"
        }
      ]
    },
    {
      "cell_type": "markdown",
      "metadata": {
        "id": "Imju49dV_fX7"
      },
      "source": [
        "Note that the log probabilities are also **differentiable** with respect to parameters. For example, "
      ]
    },
    {
      "cell_type": "code",
      "metadata": {
        "colab": {
          "base_uri": "https://localhost:8080/"
        },
        "id": "iFsL1b6v_Y_P",
        "outputId": "63023147-83df-4877-80e0-7a96f636e598"
      },
      "source": [
        "with tf.GradientTape() as tape:\n",
        "  log_probs = [\n",
        "      log_probability.log_probability_from_value_trajectory([random_walk_var],\n",
        "                                                            traj, 100)\n",
        "      for traj in trajectories\n",
        "  ]\n",
        "  negative_likelihood = -tf.reduce_sum(log_probs)\n",
        "grad = tape.gradient(negative_likelihood, normal_scale)\n",
        "print(grad)"
      ],
      "execution_count": 7,
      "outputs": [
        {
          "output_type": "stream",
          "text": [
            "WARNING:tensorflow:6 out of the last 6 calls to <function TFRuntime.__init__.<locals>.execute_fn at 0x7fbe750c7cb0> triggered tf.function retracing. Tracing is expensive and the excessive number of tracings could be due to (1) creating @tf.function repeatedly in a loop, (2) passing tensors with different shapes, (3) passing Python objects instead of tensors. For (1), please define your @tf.function outside of the loop. For (2), @tf.function has experimental_relax_shapes=True option that relaxes argument shapes that can avoid unnecessary retracing. For (3), please refer to https://www.tensorflow.org/guide/function#controlling_retracing and https://www.tensorflow.org/api_docs/python/tf/function for  more details.\n",
            "WARNING:tensorflow:7 out of the last 7 calls to <function TFRuntime.__init__.<locals>.execute_fn at 0x7fbe750c7ef0> triggered tf.function retracing. Tracing is expensive and the excessive number of tracings could be due to (1) creating @tf.function repeatedly in a loop, (2) passing tensors with different shapes, (3) passing Python objects instead of tensors. For (1), please define your @tf.function outside of the loop. For (2), @tf.function has experimental_relax_shapes=True option that relaxes argument shapes that can avoid unnecessary retracing. For (3), please refer to https://www.tensorflow.org/guide/function#controlling_retracing and https://www.tensorflow.org/api_docs/python/tf/function for  more details.\n",
            "WARNING:tensorflow:8 out of the last 8 calls to <function TFRuntime.__init__.<locals>.execute_fn at 0x7fbe740da440> triggered tf.function retracing. Tracing is expensive and the excessive number of tracings could be due to (1) creating @tf.function repeatedly in a loop, (2) passing tensors with different shapes, (3) passing Python objects instead of tensors. For (1), please define your @tf.function outside of the loop. For (2), @tf.function has experimental_relax_shapes=True option that relaxes argument shapes that can avoid unnecessary retracing. For (3), please refer to https://www.tensorflow.org/guide/function#controlling_retracing and https://www.tensorflow.org/api_docs/python/tf/function for  more details.\n",
            "WARNING:tensorflow:9 out of the last 9 calls to <function TFRuntime.__init__.<locals>.execute_fn at 0x7fbe7400f170> triggered tf.function retracing. Tracing is expensive and the excessive number of tracings could be due to (1) creating @tf.function repeatedly in a loop, (2) passing tensors with different shapes, (3) passing Python objects instead of tensors. For (1), please define your @tf.function outside of the loop. For (2), @tf.function has experimental_relax_shapes=True option that relaxes argument shapes that can avoid unnecessary retracing. For (3), please refer to https://www.tensorflow.org/guide/function#controlling_retracing and https://www.tensorflow.org/api_docs/python/tf/function for  more details.\n",
            "WARNING:tensorflow:10 out of the last 10 calls to <function TFRuntime.__init__.<locals>.execute_fn at 0x7fbe750b0c20> triggered tf.function retracing. Tracing is expensive and the excessive number of tracings could be due to (1) creating @tf.function repeatedly in a loop, (2) passing tensors with different shapes, (3) passing Python objects instead of tensors. For (1), please define your @tf.function outside of the loop. For (2), @tf.function has experimental_relax_shapes=True option that relaxes argument shapes that can avoid unnecessary retracing. For (3), please refer to https://www.tensorflow.org/guide/function#controlling_retracing and https://www.tensorflow.org/api_docs/python/tf/function for  more details.\n",
            "tf.Tensor(29.965141, shape=(), dtype=float32)\n"
          ],
          "name": "stdout"
        }
      ]
    },
    {
      "cell_type": "markdown",
      "metadata": {
        "id": "kAEQDe5-_cRl"
      },
      "source": [
        "# Putting It All Together: User Model Learning\n",
        "\n",
        "In this section, we showcase how the **uncertainty** APIs of RecSim NG can be used within a recommender-system model-learning application. \n",
        "\n",
        "In this scenario, we envision a number of users repeatedly interacting with a recommender. Each interaction proceeds as follows: the **recommender serves a slate (small set) of recommended item** to each user; each **user examines their slate and responds to it in some way (e.g., by clicking, rating or consuming an item in the case of content)**; each user then **updates their own (latent) state**; finally, the recommender observes each user's responses.\n",
        "\n",
        "The RecSim NG tasks we consider **focus on the inference of the parameters of the *user model*,** comprising models which specify their choice/response behaviors and how they update their state. We **assume there is a \"ground truth\" user model with specific parameter values, which is used to generate trajectories**. These trajectories will be used to fit a second instantiation of the user model---think of this as the model of user behavior a recommender system might build to optimize its performance---with the same structure, but with unknown parameter values. We consider two flavors of problem: the easy case is where the trajectory data contains all simulation variables, including those that model \"mental processes\" of the user; and the more involved, but more realistic, case in which some random variables are not made available in the trajectories. The latter case reflects the situation faced by most recommender systems, which cannot directly observe a user's latent state (e.g., her interests, level of satisfaction, etc.).\n",
        "\n",
        "For simplicity of presentation, we hardcode some parameter values directly into the model. A version of this example can also be found at ```recsim_ng.applications.latent_variable_model_learning```, where most parameter values are configurable.\n"
      ]
    },
    {
      "cell_type": "markdown",
      "metadata": {
        "id": "XeL3YzeLAJU0"
      },
      "source": [
        "\n",
        "## The User Model\n",
        "\n",
        "In our simulated world, we assume that each **recommendable item can be represented in a 2-dimensional Euclidean space**. \n",
        "\n",
        "**A user has a *state* consisting of**:\n",
        "* an *intent* realized by a target item: we assume the user has some goal in mind, expressible as an \"ideal\" point within the same space in which the items are embedded. The intent induces a preference model according to which items closer to the user's intent are preferred to those which are further away.\n",
        "* a dynamic *satisfaction* variable $s$, which reflects the user's (personal or subjective) assessment of whether the recommender makes progress towards the target.\n",
        "\n",
        "When presented with a slate of recommended items, the user's *choice process* either selects an item for consumption, using the sum of item affinities (computed as the negative Euclidean distance between the item and the intent) and satisfaction as logits, or abstain according to a constant \"no choice\" logit (which we set to 0 for simplicity). The user's satisfaction acts as a boost to the item-level logits compared to the constant \"no choice\" logit; thus, at high levels of satisfaction, the user is more likely to select some item for consumption. If the user's satisfaction drops and no good items are found, the user effectively \"drops out\" of the system (i.e., the probability of choosing anything other than \"no choice\" becomes negligible).\n",
        "\n",
        "The user state updates as follows:\n",
        "* The intent is sampled from a mixture model with component means $[1.0, 0.0]^T, [0.0, 1.0]^T$. This distribution over intents remains fixed over time.\n",
        "* Satisfaction $s$ evolves as: $$s_t = \\mathrm{satisfaction\\ sensitivity} \\cdot s_{t-1} + \\delta_t + \\epsilon,$$ where: satisfaction sensitivity is a parameter (set to 0.8 in this case); **$\\delta_t$ is the difference between the maximum affinity among the items from the slate presented at time $t$ and the maximum of the  time $(t-1)$ slate**; and $\\epsilon$ is zero-mean Gaussian noise with standard deviation of $0.1$.\n",
        "\n",
        "This model is implemented below using intent, choice, and affinity model implementations provided by the RecSim NG library.\n",
        "\n"
      ]
    },
    {
      "cell_type": "code",
      "metadata": {
        "id": "xhQhS0haA_Zh"
      },
      "source": [
        "from recsim_ng.stories import recommendation_simulation as simulation\n",
        "from recsim_ng.applications.latent_variable_model_learning import recommender\n",
        "from recsim_ng.entities.recommendation import user\n",
        "from recsim_ng.entities.state_models import static\n",
        "from recsim_ng.entities.choice_models import selectors\n",
        "from recsim_ng.entities.choice_models import affinities"
      ],
      "execution_count": 12,
      "outputs": []
    },
    {
      "cell_type": "code",
      "metadata": {
        "id": "Jq4MUPdk_6g2"
      },
      "source": [
        "class ModelLearningDemoUser(user.User):\n",
        "\n",
        "  def __init__(self,\n",
        "               config: Mapping[Text, Any],\n",
        "               satisfaction_sensitivity: tf.Tensor,\n",
        "               name: Text = 'ModelLearningDemoUser') -> None:\n",
        "    super().__init__(config, name)\n",
        "    self._slate_size = config.get('slate_size')\n",
        "    # Hardcoded parameter values.\n",
        "    self._user_intent_variance = 0.1\n",
        "    self._initial_satisfication = 5.0\n",
        "    # Unknown satisfaction sensitivity.\n",
        "    self._sat_sensitivity = satisfaction_sensitivity\n",
        "    # The intent model as a GMM state model from the RecSim NG state\n",
        "    # model library.\n",
        "    batch_intent_means = tf.eye(\n",
        "        2, num_columns=2, batch_shape=(self._num_users,))\n",
        "    lop_ctor = lambda params: tf.linalg.LinearOperatorScaledIdentity(\n",
        "        num_rows=2, multiplier=params)\n",
        "    self._intent_model = static.GMMVector(\n",
        "        batch_ndims=1,\n",
        "        mixture_logits=tf.zeros((self._num_users, 2)),\n",
        "        component_means=batch_intent_means,\n",
        "        component_scales=tf.sqrt(self._user_intent_variance),\n",
        "        linear_operator_ctor=lop_ctor)\n",
        "    # The choice model is a multinomial logit choice model from the RecSim NG\n",
        "    # choice model library.\n",
        "    self._choice_model = selectors.MultinomialLogitChoiceModel(\n",
        "        batch_shape=(self._num_users,),\n",
        "        nochoice_logits=tf.ones(self._num_users))\n",
        "    # The affinity model is a target point similarity model, which by default\n",
        "    # computes the negative Euclidean distance between the target point and the\n",
        "    # item embedding.\n",
        "    self._affinity_model = affinities.TargetPointSimilarity(\n",
        "        batch_shape=(self._num_users,), slate_size=self._slate_size)\n",
        "\n",
        "  def initial_state(self) -> Value:\n",
        "    \"\"\"Initial state value.\"\"\"\n",
        "    return Value(\n",
        "        satisfaction=ed.Deterministic(self._initial_satisfication *\n",
        "                                      tf.ones(self._num_users)),\n",
        "        intent=self._intent_model.initial_state().get('state'),\n",
        "        max_slate_utility=tf.zeros(self._num_users))\n",
        "\n",
        "  def next_state(self, previous_state: Value, _, slate_docs: Value) -> Value:\n",
        "    \"\"\"State transition kernel.\"\"\"\n",
        "    # Compute the improvement of slate scores.\n",
        "    slate_doc_features = slate_docs.get('features')\n",
        "    slate_doc_affinities = self._affinity_model.affinities(\n",
        "        previous_state.get('intent'), slate_doc_features).get('affinities')\n",
        "    max_slate_utility = tf.reduce_max(slate_doc_affinities, axis=-1)\n",
        "    improvement = max_slate_utility - previous_state.get('max_slate_utility')\n",
        "    next_satisfaction = self._sat_sensitivity * previous_state.get(\n",
        "        'satisfaction') + improvement\n",
        "    return Value(\n",
        "        satisfaction=ed.Normal(loc=next_satisfaction, scale=0.01),\n",
        "        intent=self._intent_model.next_state(\n",
        "            Value(state=previous_state.get('intent'))).get('state'),\n",
        "        max_slate_utility=max_slate_utility)\n",
        "\n",
        "  def next_response(self, previous_state: Value, slate_docs: Value) -> Value:\n",
        "    \"\"\"The response value after the initial value.\"\"\"\n",
        "    slate_doc_features = slate_docs.get('features')\n",
        "    slate_doc_scores = self._affinity_model.affinities(\n",
        "        previous_state.get('intent'), slate_doc_features).get('affinities')\n",
        "    # Adding the user's satisfaction to the item scores.\n",
        "    adjusted_scores = (\n",
        "        slate_doc_scores + previous_state.get('satisfaction')[..., tf.newaxis])\n",
        "    return self._choice_model.choice(adjusted_scores)\n",
        "\n",
        "  def observation(self):\n",
        "    pass\n",
        "\n",
        "  def specs(self) -> ValueSpec:\n",
        "    response_spec = self._choice_model.specs()\n",
        "    state_spec = ValueSpec(\n",
        "        intent=self._intent_model.specs().get('state'),\n",
        "        satisfaction=FieldSpec(),\n",
        "        max_slate_utility=FieldSpec())\n",
        "    return state_spec.prefixed_with('state').union(\n",
        "        response_spec.prefixed_with('response'))"
      ],
      "execution_count": 13,
      "outputs": []
    },
    {
      "cell_type": "code",
      "metadata": {
        "colab": {
          "base_uri": "https://localhost:8080/"
        },
        "id": "AuBJ-pkmAwEZ",
        "outputId": "b3cced0d-1dc0-4584-90bf-e1389bb23006"
      },
      "source": [
        "# Initialize simulation parameters\n",
        "gt_satisfaction_sensitivity = 0.8 * tf.ones(5)\n",
        "num_users = 5\n",
        "num_topics = 2\n",
        "horizon = 6\n",
        "\n",
        "config = {\n",
        "    \"slate_size\": 2,\n",
        "    \"num_users\": num_users,\n",
        "    \"num_topics\": num_topics,\n",
        "    \"num_docs\": 0\n",
        "}\n",
        "# Set up ground truth runtime.\n",
        "gt_user_ctor = functools.partial(\n",
        "      ModelLearningDemoUser,\n",
        "      satisfaction_sensitivity=gt_satisfaction_sensitivity)\n",
        "gt_variables = simulation.simplified_recs_story(config, gt_user_ctor,\n",
        "                                          recommender.SimpleNormalRecommender)\n",
        "gt_network = network_lib.Network(variables=gt_variables)\n",
        "gt_runtime = runtime.TFRuntime(network=gt_network)\n",
        "traj = dict(gt_runtime.trajectory(length=horizon))\n",
        "print('===============GROUND TRUTH LIKELIHOOD================')\n",
        "print(\n",
        "    log_probability.log_probability_from_value_trajectory(\n",
        "        variables=gt_variables, value_trajectory=traj, num_steps=horizon - 1))\n",
        "print('======================================================')"
      ],
      "execution_count": 14,
      "outputs": [
        {
          "output_type": "stream",
          "text": [
            "===============GROUND TRUTH LIKELIHOOD================\n",
            "WARNING:tensorflow:11 out of the last 11 calls to <function TFRuntime.__init__.<locals>.execute_fn at 0x7fbe73e78e60> triggered tf.function retracing. Tracing is expensive and the excessive number of tracings could be due to (1) creating @tf.function repeatedly in a loop, (2) passing tensors with different shapes, (3) passing Python objects instead of tensors. For (1), please define your @tf.function outside of the loop. For (2), @tf.function has experimental_relax_shapes=True option that relaxes argument shapes that can avoid unnecessary retracing. For (3), please refer to https://www.tensorflow.org/guide/function#controlling_retracing and https://www.tensorflow.org/api_docs/python/tf/function for  more details.\n",
            "tf.Tensor(-57.91516, shape=(), dtype=float32)\n",
            "======================================================\n"
          ],
          "name": "stdout"
        }
      ]
    },
    {
      "cell_type": "code",
      "metadata": {
        "colab": {
          "base_uri": "https://localhost:8080/"
        },
        "id": "HtmbMXiZBJkE",
        "outputId": "b55ef337-bbb0-4ff8-9c0b-ac6b96bad13b"
      },
      "source": [
        "trainable_sat_sensitivity = tf.Variable(\n",
        "    tf.math.sigmoid(ed.Normal(loc=tf.zeros(5), scale=1.0)))\n",
        "trainable_user_ctor = functools.partial(\n",
        "    ModelLearningDemoUser, satisfaction_sensitivity=trainable_sat_sensitivity)\n",
        "t_variables = simulation.simplified_recs_story(\n",
        "    config, trainable_user_ctor, recommender.SimpleNormalRecommender)\n",
        "trainable_network = network_lib.Network(variables=t_variables)\n",
        "trainable_runtime = runtime.TFRuntime(network=trainable_network)\n",
        "print('===============UNTRAINED LIKELIHOOD================')\n",
        "print(\n",
        "    log_probability.log_probability_from_value_trajectory(\n",
        "        variables=t_variables, value_trajectory=traj, num_steps=horizon - 1))\n",
        "print('======================================================')"
      ],
      "execution_count": 15,
      "outputs": [
        {
          "output_type": "stream",
          "text": [
            "===============UNTRAINED LIKELIHOOD================\n",
            "WARNING:tensorflow:11 out of the last 11 calls to <function TFRuntime.__init__.<locals>.execute_fn at 0x7fbe73b98320> triggered tf.function retracing. Tracing is expensive and the excessive number of tracings could be due to (1) creating @tf.function repeatedly in a loop, (2) passing tensors with different shapes, (3) passing Python objects instead of tensors. For (1), please define your @tf.function outside of the loop. For (2), @tf.function has experimental_relax_shapes=True option that relaxes argument shapes that can avoid unnecessary retracing. For (3), please refer to https://www.tensorflow.org/guide/function#controlling_retracing and https://www.tensorflow.org/api_docs/python/tf/function for  more details.\n",
            "tf.Tensor(-69400.414, shape=(), dtype=float32)\n",
            "======================================================\n"
          ],
          "name": "stdout"
        }
      ]
    },
    {
      "cell_type": "code",
      "metadata": {
        "colab": {
          "base_uri": "https://localhost:8080/"
        },
        "id": "t4jZUu5dBKVd",
        "outputId": "09492d16-662a-4a3a-f36f-d48db32ba8bb"
      },
      "source": [
        "optimizer = tf.keras.optimizers.Adam(learning_rate=0.01)\n",
        "\n",
        "@tf.function\n",
        "def training_step():\n",
        "  with tf.GradientTape() as tape:\n",
        "    gt_trajectory = gt_runtime.trajectory(length=horizon)\n",
        "    neg_likelihood = -log_probability.log_probability_from_value_trajectory(\n",
        "        variables=t_variables, value_trajectory=traj, num_steps=horizon - 1)\n",
        "  grads = tape.gradient(neg_likelihood, [trainable_sat_sensitivity])\n",
        "  optimizer.apply_gradients(zip(grads, [trainable_sat_sensitivity]))\n",
        "  return neg_likelihood\n",
        "\n",
        "likelihood_history = []\n",
        "print(f\"Parameters before training: {trainable_sat_sensitivity.numpy()}\")\n",
        "for i in range(101):\n",
        "  obj = training_step()\n",
        "  likelihood_history.append(-obj)\n",
        "  if not i % 20:\n",
        "    print(f\"Iteration {i}, negative likelihood {obj.numpy()}\")\n",
        "    print(f\"Parameter values: {trainable_sat_sensitivity.numpy()}\")"
      ],
      "execution_count": 16,
      "outputs": [
        {
          "output_type": "stream",
          "text": [
            "Parameters before training: [0.307318   0.7299073  0.715353   0.544816   0.84736717]\n",
            "Iteration 0, negative likelihood 69400.4140625\n",
            "Parameter values: [0.317318   0.73990726 0.725353   0.554816   0.8373672 ]\n",
            "Iteration 20, negative likelihood 20559.65234375\n",
            "Parameter values: [0.51019996 0.80448884 0.8180659  0.7369146  0.8060292 ]\n",
            "Iteration 40, negative likelihood 4475.8740234375\n",
            "Parameter values: [0.66515666 0.80142766 0.7948264  0.81823367 0.79603547]\n",
            "Iteration 60, negative likelihood 492.6428527832031\n",
            "Parameter values: [0.7590997  0.79578453 0.7979844  0.8048417  0.7966165 ]\n",
            "Iteration 80, negative likelihood 60.832359313964844\n",
            "Parameter values: [0.79729235 0.7969965  0.80007654 0.79403156 0.79751587]\n",
            "Iteration 100, negative likelihood 58.455474853515625\n",
            "Parameter values: [0.80424523 0.79764223 0.79909855 0.7980509  0.79789823]\n"
          ],
          "name": "stdout"
        }
      ]
    },
    {
      "cell_type": "code",
      "metadata": {
        "colab": {
          "base_uri": "https://localhost:8080/",
          "height": 267
        },
        "id": "OIYAHVBzBL0e",
        "outputId": "fc0857fb-49dc-49fa-aff0-01868196e4f2"
      },
      "source": [
        "_, ax = plt.subplots(figsize=(8, 3))\n",
        "ax.plot(range(len(likelihood_history)), likelihood_history)\n",
        "plt.xlabel('training iteration')\n",
        "plt.ylabel('trainable model likelihood')\n",
        "plt.show()"
      ],
      "execution_count": 17,
      "outputs": [
        {
          "output_type": "display_data",
          "data": {
            "image/png": "[encoded data removed]",
            "text/plain": [
              "<Figure size 640x240 with 1 Axes>"
            ]
          },
          "metadata": {
            "tags": []
          }
        }
      ]
    },
    {
      "cell_type": "markdown",
      "metadata": {
        "id": "e90PMZb7BMzC"
      },
      "source": [
        "## Partially observed data.\n",
        "\n",
        "Model learning problems like the one above, where all random variables are observed in every trajectory, are relatively straightforward to solve (at least conceptually). However, in many real-world applications, especially those concerning recommender systems, we cannot expect to observe everything that goes on in the domain of interest. This is true almost by definition in the realm of *user modeling*, where the tools needed to understand users' behaviors tend to be psychometric constructs, such as preferences, interests, personality characteristics, mood/sentiment, and so on. These are hypothesized to \"exist\" only in the user's mind and can only be inferred via the observed behaviors which they influence. Other unobservable characteristics involving the user's context or environment may also influence their behavior in a recommendation setting (e.g., context variables like the user's location, their activity, and their companions).\n",
        "\n",
        "> Learning simulators from **partially observed data** is still possible, though not as straightforward as in the fully observed case. \n"
      ]
    },
    {
      "cell_type": "markdown",
      "metadata": {
        "id": "leJNcLcpCNwE"
      },
      "source": [
        "## Latent Variable Model\n",
        "\n",
        "There are several well-understood ways to train a latent variable model for use as a simulator. For the purposes of this tutorial, we implement a classical technique called *Expectation-Maximization (EM)*. \n",
        "\n",
        "Let $X$ be the set of observed variables, $Y$ be the set of unobserved variables, and $\\theta$ be the set of model parameters. In the fully observed case ($Y = \\emptyset$), one natural approach is to find parameters that maximize the plausibility of the observed data $X$ by maximizing the log-likelihood:\n",
        "$$\\theta^\\ast = \\arg\\max_\\theta \\log p_\\theta(X).$$\n",
        "\n",
        " The starting point of EM is to extend the idea of maximizing log-marginal likelihood of $X$ by integrating out $Y$:\n",
        " $$\\theta^* = \\arg\\max_\\theta \\log \\int_Y p_\\theta(X,Y).$$\n",
        "Algorithmically, this is done by constructing a sequence of lower bounds\n",
        "$$ f(\\theta; \\theta_k) = \\int_Y p_{\\theta^k}(Y|X)\\log p_\\theta(X,Y) + H_{\\theta^k} \\leq \\log \\int_Y p_\\theta(X,Y),$$\n",
        "where $\\theta^k$ is the parameter guess at step $k$, and $H_{\\theta^k}$ is a quantity dependent on $\\theta_k$, which can be ignored for our particular purposes. \n",
        "\n",
        "A \"vanilla\" EM iteration (e.g., step $k+1$) typically proceeds in two phases:\n",
        "1. Compute $f(\\theta; \\theta_k)$ (E-step).\n",
        "2. Update parameters as $\\theta_{k+1} = \\arg\\max_\\theta f(\\theta; \\theta_k)$ (M-step).\n",
        "\n",
        "There are two challenges to address before we can put this into action: first, we need a tractable way of computing (possibly approximating) the posterior expectation over $Y|X$ in the E-step. Second, we need to be able to compute (again, approximate) the argmax parameters in the M-step. \n",
        "\n",
        "The first challenge will be addressed using *posterior sampling*. Specifically, we replace the expectation $\\int_Y p_{\\theta^k}(Y|X)\\log p_\\theta(X,Y)$ by a Monte-Carlo estimate $\\frac{1}{|S|}\\sum_{s\\in S} \\log p_\\theta(X,Y_s)$, where $\\{Y_1,\\ldots, Y_s\\}$ are samples from the posterior distribution $p(\\cdot|X)$. The second challenge is addressed using gradient ascent on $\\theta$. In fact, we just replace step 2 by a *single* gradient step instead of running gradient descent to convergence every time (this works fine in our case---surprise, surprise---but, in general, how much and what type of maximization is realized in step 2 may change the convergence properties of the algorithm).\n",
        "\n",
        "We already know how to perform gradient ascent on parameter likelihoods, so what remains to show is how to implement posterior sampling with RecSim NG."
      ]
    },
    {
      "cell_type": "markdown",
      "metadata": {
        "id": "_Ewr18wPCJs_"
      },
      "source": [
        "## posterior sampling\n",
        "Our posterior sampling implementation uses a *Markov-Chain Monte Carlo (MCMC)* sampler provided by TFP. MCMC is a family of algorithms for sampling from an unnormalized density---such methods start at some point in the support of the density and incrementally perturb that point using information from the density. \n",
        "\n",
        "We use the *Hamiltonian Monte Carlo (HMC)* approach, which stochastically moves the sample in the direction of the gradient of the log probability function. TFP already offers a robust implementation of HMC, so our job is only to provide its inputs.\n",
        "\n",
        "To illustrate latent variable model learning, let's assume that every user's intent is an *unobserved* variable, while all other parts of the trajectory are given. To use TFP's HMC implementation, we need to implement the unnormalized (log) density $\\phi(Y) := \\log p(X,Y)$, where $Y$ is the array consisting of the users' intents. Moreover, $\\phi(Y)$ must be differentiable with respect to $Y$. This is relatively straightforward in RecSim NG. Since the user intent doesn't change over time, we can recreate the intent trajectory by expanding the intent vector over time. Then, we combine that intent trajectory with the observed data and call the log prob function. The implementation is given below."
      ]
    },
    {
      "cell_type": "code",
      "metadata": {
        "id": "xqC0jyIyCkkB"
      },
      "source": [
        "# Reinitialize trainable variables.\n",
        "trainable_sat_sensitivity.assign(\n",
        "    tf.math.sigmoid(ed.Normal(loc=tf.zeros(5), scale=1.0)))\n",
        "\n",
        "\n",
        "@tf.function\n",
        "def unnormalized_log_prob_train(intent: tf.Tensor) -> tf.Tensor:\n",
        "  # Expand initial intent to complete intent trajectory.\n",
        "  intent_traj = tf.expand_dims(\n",
        "      intent, axis=0) + tf.zeros((horizon, num_users, num_topics))\n",
        "  # Combine intent trajectory with the observed data.\n",
        "  user_state_dict = dict(traj['user state'].as_dict)\n",
        "  user_state_dict['intent'] = intent_traj\n",
        "  traj['user state'] = Value(**user_state_dict)\n",
        "  # Return the log probability of the imputed intent + observations.\n",
        "  return log_probability.log_probability_from_value_trajectory(\n",
        "      variables=t_variables, value_trajectory=traj, num_steps=horizon - 1)"
      ],
      "execution_count": 18,
      "outputs": []
    },
    {
      "cell_type": "markdown",
      "metadata": {
        "id": "Fokl_Ee_C2Mt"
      },
      "source": [
        "With the unnormalized density implementation, setting up the HMC sampler follows the TFP [HamiltonianMonteCarlo example code](https://www.tensorflow.org/probability/api_docs/python/tfp/mcmc/HamiltonianMonteCarlo) almost verbatim."
      ]
    },
    {
      "cell_type": "code",
      "metadata": {
        "id": "1ojeUPzjC2qq"
      },
      "source": [
        "num_results = int(2e3)\n",
        "num_burnin_steps = int(5e2)\n",
        "adaptive_hmc = tfp.mcmc.SimpleStepSizeAdaptation(\n",
        "    tfp.mcmc.HamiltonianMonteCarlo(\n",
        "        target_log_prob_fn=unnormalized_log_prob_train,\n",
        "        num_leapfrog_steps=5,\n",
        "        step_size=.00008),\n",
        "    num_adaptation_steps=int(num_burnin_steps * 0.8))\n",
        "\n",
        "# Run the chain (with burn-in).\n",
        "@tf.function\n",
        "def run_chain():\n",
        "  samples, is_accepted = tfp.mcmc.sample_chain(\n",
        "      num_results=num_results,\n",
        "      num_burnin_steps=num_burnin_steps,\n",
        "      current_state=tfd.Normal(loc=tf.ones((5, 2)) / 5, scale=0.5).sample(),\n",
        "      kernel=adaptive_hmc,\n",
        "      trace_fn=lambda _, pkr: pkr.inner_results.is_accepted)\n",
        "\n",
        "  sample_mean = tf.reduce_mean(samples)\n",
        "  sample_stddev = tf.math.reduce_std(samples)\n",
        "  is_accepted = tf.reduce_mean(tf.cast(is_accepted, dtype=tf.float32))\n",
        "  return samples, sample_mean, sample_stddev, is_accepted"
      ],
      "execution_count": 19,
      "outputs": []
    },
    {
      "cell_type": "code",
      "metadata": {
        "colab": {
          "base_uri": "https://localhost:8080/",
          "height": 531
        },
        "id": "BECIMx7XC3ii",
        "outputId": "ae1957af-85f2-4f33-9340-31b5b629d9dd"
      },
      "source": [
        "#@test {\"skip\": true}\n",
        "# Initialize the HMC transition kernel.\n",
        "optimizer = tf.keras.optimizers.Adam(learning_rate=0.01)\n",
        "elbo_history = []\n",
        "for i in range(101):\n",
        "  posterior_samples, sample_mean, sample_stddev, is_accepted = run_chain()\n",
        "  log_probs = []\n",
        "  with tf.GradientTape() as tape:\n",
        "    log_probs = tf.vectorized_map(unnormalized_log_prob_train,\n",
        "                                  posterior_samples[num_burnin_steps:,])\n",
        "    neg_elbo = -tf.reduce_mean(log_probs)\n",
        "  grads = tape.gradient(neg_elbo, [trainable_sat_sensitivity])\n",
        "  optimizer.apply_gradients(zip(grads, [trainable_sat_sensitivity]))\n",
        "  elbo_history.append(-neg_elbo)\n",
        "  if not i % 5:\n",
        "    print(f\"Iteration {i}, unnormalized negative ELBO {neg_elbo.numpy()}\")\n",
        "    print(f\"Parameter values: {trainable_sat_sensitivity.numpy()}\")\n",
        "    print(f\"Acceptance rate: {is_accepted.numpy()}\")"
      ],
      "execution_count": 20,
      "outputs": [
        {
          "output_type": "stream",
          "text": [
            "Iteration 0, unnormalized negative ELBO 48350.36328125\n",
            "Parameter values: [0.8501614  0.79987717 0.47942793 0.40078646 0.46324602]\n",
            "Acceptance rate: 0.9154999852180481\n",
            "WARNING:tensorflow:5 out of the last 5 calls to <function pfor.<locals>.f at 0x7fbe72e5e200> triggered tf.function retracing. Tracing is expensive and the excessive number of tracings could be due to (1) creating @tf.function repeatedly in a loop, (2) passing tensors with different shapes, (3) passing Python objects instead of tensors. For (1), please define your @tf.function outside of the loop. For (2), @tf.function has experimental_relax_shapes=True option that relaxes argument shapes that can avoid unnecessary retracing. For (3), please refer to https://www.tensorflow.org/guide/function#controlling_retracing and https://www.tensorflow.org/api_docs/python/tf/function for  more details.\n",
            "WARNING:tensorflow:6 out of the last 6 calls to <function pfor.<locals>.f at 0x7fbe73086830> triggered tf.function retracing. Tracing is expensive and the excessive number of tracings could be due to (1) creating @tf.function repeatedly in a loop, (2) passing tensors with different shapes, (3) passing Python objects instead of tensors. For (1), please define your @tf.function outside of the loop. For (2), @tf.function has experimental_relax_shapes=True option that relaxes argument shapes that can avoid unnecessary retracing. For (3), please refer to https://www.tensorflow.org/guide/function#controlling_retracing and https://www.tensorflow.org/api_docs/python/tf/function for  more details.\n",
            "Iteration 5, unnormalized negative ELBO 34882.6875\n",
            "Parameter values: [0.8620221  0.7748786  0.5291573  0.44856375 0.51268923]\n",
            "Acceptance rate: 0.7994999885559082\n"
          ],
          "name": "stdout"
        },
        {
          "output_type": "error",
          "ename": "KeyboardInterrupt",
          "evalue": "ignored",
          "traceback": [
            "\u001b[0;31m---------------------------------------------------------------------------\u001b[0m",
            "\u001b[0;31mKeyboardInterrupt\u001b[0m                         Traceback (most recent call last)",
            "\u001b[0;32m<ipython-input-20-5876de502cb4>\u001b[0m in \u001b[0;36m<module>\u001b[0;34m()\u001b[0m\n\u001b[1;32m      4\u001b[0m \u001b[0melbo_history\u001b[0m \u001b[0;34m=\u001b[0m \u001b[0;34m[\u001b[0m\u001b[0;34m]\u001b[0m\u001b[0;34m\u001b[0m\u001b[0;34m\u001b[0m\u001b[0m\n\u001b[1;32m      5\u001b[0m \u001b[0;32mfor\u001b[0m \u001b[0mi\u001b[0m \u001b[0;32min\u001b[0m \u001b[0mrange\u001b[0m\u001b[0;34m(\u001b[0m\u001b[0;36m101\u001b[0m\u001b[0;34m)\u001b[0m\u001b[0;34m:\u001b[0m\u001b[0;34m\u001b[0m\u001b[0;34m\u001b[0m\u001b[0m\n\u001b[0;32m----> 6\u001b[0;31m   \u001b[0mposterior_samples\u001b[0m\u001b[0;34m,\u001b[0m \u001b[0msample_mean\u001b[0m\u001b[0;34m,\u001b[0m \u001b[0msample_stddev\u001b[0m\u001b[0;34m,\u001b[0m \u001b[0mis_accepted\u001b[0m \u001b[0;34m=\u001b[0m \u001b[0mrun_chain\u001b[0m\u001b[0;34m(\u001b[0m\u001b[0;34m)\u001b[0m\u001b[0;34m\u001b[0m\u001b[0;34m\u001b[0m\u001b[0m\n\u001b[0m\u001b[1;32m      7\u001b[0m   \u001b[0mlog_probs\u001b[0m \u001b[0;34m=\u001b[0m \u001b[0;34m[\u001b[0m\u001b[0;34m]\u001b[0m\u001b[0;34m\u001b[0m\u001b[0;34m\u001b[0m\u001b[0m\n\u001b[1;32m      8\u001b[0m   \u001b[0;32mwith\u001b[0m \u001b[0mtf\u001b[0m\u001b[0;34m.\u001b[0m\u001b[0mGradientTape\u001b[0m\u001b[0;34m(\u001b[0m\u001b[0;34m)\u001b[0m \u001b[0;32mas\u001b[0m \u001b[0mtape\u001b[0m\u001b[0;34m:\u001b[0m\u001b[0;34m\u001b[0m\u001b[0;34m\u001b[0m\u001b[0m\n",
            "\u001b[0;32m/usr/local/lib/python3.7/dist-packages/tensorflow/python/eager/def_function.py\u001b[0m in \u001b[0;36m__call__\u001b[0;34m(self, *args, **kwds)\u001b[0m\n\u001b[1;32m    826\u001b[0m     \u001b[0mtracing_count\u001b[0m \u001b[0;34m=\u001b[0m \u001b[0mself\u001b[0m\u001b[0;34m.\u001b[0m\u001b[0mexperimental_get_tracing_count\u001b[0m\u001b[0;34m(\u001b[0m\u001b[0;34m)\u001b[0m\u001b[0;34m\u001b[0m\u001b[0;34m\u001b[0m\u001b[0m\n\u001b[1;32m    827\u001b[0m     \u001b[0;32mwith\u001b[0m \u001b[0mtrace\u001b[0m\u001b[0;34m.\u001b[0m\u001b[0mTrace\u001b[0m\u001b[0;34m(\u001b[0m\u001b[0mself\u001b[0m\u001b[0;34m.\u001b[0m\u001b[0m_name\u001b[0m\u001b[0;34m)\u001b[0m \u001b[0;32mas\u001b[0m \u001b[0mtm\u001b[0m\u001b[0;34m:\u001b[0m\u001b[0;34m\u001b[0m\u001b[0;34m\u001b[0m\u001b[0m\n\u001b[0;32m--> 828\u001b[0;31m       \u001b[0mresult\u001b[0m \u001b[0;34m=\u001b[0m \u001b[0mself\u001b[0m\u001b[0;34m.\u001b[0m\u001b[0m_call\u001b[0m\u001b[0;34m(\u001b[0m\u001b[0;34m*\u001b[0m\u001b[0margs\u001b[0m\u001b[0;34m,\u001b[0m \u001b[0;34m**\u001b[0m\u001b[0mkwds\u001b[0m\u001b[0;34m)\u001b[0m\u001b[0;34m\u001b[0m\u001b[0;34m\u001b[0m\u001b[0m\n\u001b[0m\u001b[1;32m    829\u001b[0m       \u001b[0mcompiler\u001b[0m \u001b[0;34m=\u001b[0m \u001b[0;34m\"xla\"\u001b[0m \u001b[0;32mif\u001b[0m \u001b[0mself\u001b[0m\u001b[0;34m.\u001b[0m\u001b[0m_experimental_compile\u001b[0m \u001b[0;32melse\u001b[0m \u001b[0;34m\"nonXla\"\u001b[0m\u001b[0;34m\u001b[0m\u001b[0;34m\u001b[0m\u001b[0m\n\u001b[1;32m    830\u001b[0m       \u001b[0mnew_tracing_count\u001b[0m \u001b[0;34m=\u001b[0m \u001b[0mself\u001b[0m\u001b[0;34m.\u001b[0m\u001b[0mexperimental_get_tracing_count\u001b[0m\u001b[0;34m(\u001b[0m\u001b[0;34m)\u001b[0m\u001b[0;34m\u001b[0m\u001b[0;34m\u001b[0m\u001b[0m\n",
            "\u001b[0;32m/usr/local/lib/python3.7/dist-packages/tensorflow/python/eager/def_function.py\u001b[0m in \u001b[0;36m_call\u001b[0;34m(self, *args, **kwds)\u001b[0m\n\u001b[1;32m    860\u001b[0m       \u001b[0;31m# In this case we have not created variables on the first call. So we can\u001b[0m\u001b[0;34m\u001b[0m\u001b[0;34m\u001b[0m\u001b[0;34m\u001b[0m\u001b[0m\n\u001b[1;32m    861\u001b[0m       \u001b[0;31m# run the first trace but we should fail if variables are created.\u001b[0m\u001b[0;34m\u001b[0m\u001b[0;34m\u001b[0m\u001b[0;34m\u001b[0m\u001b[0m\n\u001b[0;32m--> 862\u001b[0;31m       \u001b[0mresults\u001b[0m \u001b[0;34m=\u001b[0m \u001b[0mself\u001b[0m\u001b[0;34m.\u001b[0m\u001b[0m_stateful_fn\u001b[0m\u001b[0;34m(\u001b[0m\u001b[0;34m*\u001b[0m\u001b[0margs\u001b[0m\u001b[0;34m,\u001b[0m \u001b[0;34m**\u001b[0m\u001b[0mkwds\u001b[0m\u001b[0;34m)\u001b[0m\u001b[0;34m\u001b[0m\u001b[0;34m\u001b[0m\u001b[0m\n\u001b[0m\u001b[1;32m    863\u001b[0m       \u001b[0;32mif\u001b[0m \u001b[0mself\u001b[0m\u001b[0;34m.\u001b[0m\u001b[0m_created_variables\u001b[0m\u001b[0;34m:\u001b[0m\u001b[0;34m\u001b[0m\u001b[0;34m\u001b[0m\u001b[0m\n\u001b[1;32m    864\u001b[0m         raise ValueError(\"Creating variables on a non-first call to a function\"\n",
            "\u001b[0;32m/usr/local/lib/python3.7/dist-packages/tensorflow/python/eager/function.py\u001b[0m in \u001b[0;36m__call__\u001b[0;34m(self, *args, **kwargs)\u001b[0m\n\u001b[1;32m   2941\u001b[0m        filtered_flat_args) = self._maybe_define_function(args, kwargs)\n\u001b[1;32m   2942\u001b[0m     return graph_function._call_flat(\n\u001b[0;32m-> 2943\u001b[0;31m         filtered_flat_args, captured_inputs=graph_function.captured_inputs)  # pylint: disable=protected-access\n\u001b[0m\u001b[1;32m   2944\u001b[0m \u001b[0;34m\u001b[0m\u001b[0m\n\u001b[1;32m   2945\u001b[0m   \u001b[0;34m@\u001b[0m\u001b[0mproperty\u001b[0m\u001b[0;34m\u001b[0m\u001b[0;34m\u001b[0m\u001b[0m\n",
            "\u001b[0;32m/usr/local/lib/python3.7/dist-packages/tensorflow/python/eager/function.py\u001b[0m in \u001b[0;36m_call_flat\u001b[0;34m(self, args, captured_inputs, cancellation_manager)\u001b[0m\n\u001b[1;32m   1917\u001b[0m       \u001b[0;31m# No tape is watching; skip to running the function.\u001b[0m\u001b[0;34m\u001b[0m\u001b[0;34m\u001b[0m\u001b[0;34m\u001b[0m\u001b[0m\n\u001b[1;32m   1918\u001b[0m       return self._build_call_outputs(self._inference_function.call(\n\u001b[0;32m-> 1919\u001b[0;31m           ctx, args, cancellation_manager=cancellation_manager))\n\u001b[0m\u001b[1;32m   1920\u001b[0m     forward_backward = self._select_forward_and_backward_functions(\n\u001b[1;32m   1921\u001b[0m         \u001b[0margs\u001b[0m\u001b[0;34m,\u001b[0m\u001b[0;34m\u001b[0m\u001b[0;34m\u001b[0m\u001b[0m\n",
            "\u001b[0;32m/usr/local/lib/python3.7/dist-packages/tensorflow/python/eager/function.py\u001b[0m in \u001b[0;36mcall\u001b[0;34m(self, ctx, args, cancellation_manager)\u001b[0m\n\u001b[1;32m    558\u001b[0m               \u001b[0minputs\u001b[0m\u001b[0;34m=\u001b[0m\u001b[0margs\u001b[0m\u001b[0;34m,\u001b[0m\u001b[0;34m\u001b[0m\u001b[0;34m\u001b[0m\u001b[0m\n\u001b[1;32m    559\u001b[0m               \u001b[0mattrs\u001b[0m\u001b[0;34m=\u001b[0m\u001b[0mattrs\u001b[0m\u001b[0;34m,\u001b[0m\u001b[0;34m\u001b[0m\u001b[0;34m\u001b[0m\u001b[0m\n\u001b[0;32m--> 560\u001b[0;31m               ctx=ctx)\n\u001b[0m\u001b[1;32m    561\u001b[0m         \u001b[0;32melse\u001b[0m\u001b[0;34m:\u001b[0m\u001b[0;34m\u001b[0m\u001b[0;34m\u001b[0m\u001b[0m\n\u001b[1;32m    562\u001b[0m           outputs = execute.execute_with_cancellation(\n",
            "\u001b[0;32m/usr/local/lib/python3.7/dist-packages/tensorflow/python/eager/execute.py\u001b[0m in \u001b[0;36mquick_execute\u001b[0;34m(op_name, num_outputs, inputs, attrs, ctx, name)\u001b[0m\n\u001b[1;32m     58\u001b[0m     \u001b[0mctx\u001b[0m\u001b[0;34m.\u001b[0m\u001b[0mensure_initialized\u001b[0m\u001b[0;34m(\u001b[0m\u001b[0;34m)\u001b[0m\u001b[0;34m\u001b[0m\u001b[0;34m\u001b[0m\u001b[0m\n\u001b[1;32m     59\u001b[0m     tensors = pywrap_tfe.TFE_Py_Execute(ctx._handle, device_name, op_name,\n\u001b[0;32m---> 60\u001b[0;31m                                         inputs, attrs, num_outputs)\n\u001b[0m\u001b[1;32m     61\u001b[0m   \u001b[0;32mexcept\u001b[0m \u001b[0mcore\u001b[0m\u001b[0;34m.\u001b[0m\u001b[0m_NotOkStatusException\u001b[0m \u001b[0;32mas\u001b[0m \u001b[0me\u001b[0m\u001b[0;34m:\u001b[0m\u001b[0;34m\u001b[0m\u001b[0;34m\u001b[0m\u001b[0m\n\u001b[1;32m     62\u001b[0m     \u001b[0;32mif\u001b[0m \u001b[0mname\u001b[0m \u001b[0;32mis\u001b[0m \u001b[0;32mnot\u001b[0m \u001b[0;32mNone\u001b[0m\u001b[0;34m:\u001b[0m\u001b[0;34m\u001b[0m\u001b[0;34m\u001b[0m\u001b[0m\n",
            "\u001b[0;31mKeyboardInterrupt\u001b[0m: "
          ]
        }
      ]
    },
    {
      "cell_type": "code",
      "metadata": {
        "colab": {
          "base_uri": "https://localhost:8080/",
          "height": 284
        },
        "id": "cm-rM_8LC6H7",
        "outputId": "20ee1353-4dd9-4e5f-de92-6188c3ac5357"
      },
      "source": [
        "#@test {\"skip\": true}\n",
        "_, ax = plt.subplots(figsize=(8, 3))\n",
        "ax.plot(range(len(elbo_history)), elbo_history)\n",
        "plt.xlabel('training iteration')\n",
        "plt.ylabel('ELBO')"
      ],
      "execution_count": 21,
      "outputs": [
        {
          "output_type": "execute_result",
          "data": {
            "text/plain": [
              "Text(0, 0.5, 'ELBO')"
            ]
          },
          "metadata": {
            "tags": []
          },
          "execution_count": 21
        },
        {
          "output_type": "display_data",
          "data": {
            "image/png": "[encoded data removed]",
            "text/plain": [
              "<Figure size 640x240 with 1 Axes>"
            ]
          },
          "metadata": {
            "tags": []
          }
        }
      ]
    },
    {
      "cell_type": "code",
      "metadata": {
        "id": "Cf4C486GC66U"
      },
      "source": [
        ""
      ],
      "execution_count": null,
      "outputs": []
    }
  ]
}